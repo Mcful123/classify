{
  "nbformat": 4,
  "nbformat_minor": 0,
  "metadata": {
    "colab": {
      "name": "test.ipynb",
      "provenance": []
    },
    "kernelspec": {
      "name": "python3",
      "display_name": "Python 3"
    },
    "language_info": {
      "name": "python"
    }
  },
  "cells": [
    {
      "cell_type": "code",
      "metadata": {
        "colab": {
          "base_uri": "https://localhost:8080/"
        },
        "id": "_ZLYCw4ocVaR",
        "outputId": "2114e30b-81d3-454f-f5cd-a40c78f53f21"
      },
      "source": [
        "pip install opencv-python"
      ],
      "execution_count": 1,
      "outputs": [
        {
          "output_type": "stream",
          "text": [
            "Requirement already satisfied: opencv-python in /usr/local/lib/python3.7/dist-packages (4.1.2.30)\n",
            "Requirement already satisfied: numpy>=1.14.5 in /usr/local/lib/python3.7/dist-packages (from opencv-python) (1.19.5)\n"
          ],
          "name": "stdout"
        }
      ]
    },
    {
      "cell_type": "code",
      "metadata": {
        "colab": {
          "base_uri": "https://localhost:8080/",
          "height": 231
        },
        "id": "5WNWb8tfPkxe",
        "outputId": "9d843cc6-a07c-4fec-8efc-b0e8b6b7cc21"
      },
      "source": [
        "# -*- coding: utf-8 -*-\n",
        "\"\"\"\n",
        "Created on Fri Jun 11 15:42:38 2021\n",
        "\n",
        "@author: chomi\n",
        "\"\"\"\n",
        "\n",
        "import cv2 as cv\n",
        "import os\n",
        "\n",
        "path = 'images/'\n",
        "\n",
        "def image_resize(image, width = None, height = None, inter = cv.INTER_AREA):\n",
        "    dim = None\n",
        "    (h, w) = image.shape[:2]\n",
        "    if width is None and height is None:\n",
        "        return image\n",
        "    if width is None:\n",
        "        r = height / float(h)\n",
        "        dim = (int(w * r), height)\n",
        "    else:\n",
        "        r = width / float(w)\n",
        "        dim = (width, int(h * r))\n",
        "    resized = cv.resize(image, dim, interpolation = inter)\n",
        "    return resized\n",
        "\n",
        "\n",
        "for filename in os.listdir(path):\n",
        "    flag = 1\n",
        "    if(filename.endswith(\".png\")):\n",
        "        img = cv.imread(path + filename)\n",
        "        copy = img.copy()\n",
        "        copy = image_resize(copy, width = 800)\n",
        "        cv.imshow('quick', copy)\n",
        "        while(flag == 1):\n",
        "            key = cv.waitKey(0)\n",
        "            if(key == ord('0')):\n",
        "                print(filename, \" Saved as:  0\")\n",
        "                cv.imwrite('images/0/' + filename, copy)\n",
        "                cv.imwrite('images/sorted/' + filename, img)\n",
        "                os.remove(path + filename)\n",
        "                flag = 0\n",
        "            elif(key == ord('1')):\n",
        "                print(filename, \" Saved as:  1\")\n",
        "                cv.imwrite('images/1/' + filename, copy)\n",
        "                cv.imwrite('images/sorted/' + filename, img)\n",
        "                os.remove(path + filename)\n",
        "                flag = 0\n",
        "            elif(key == ord('2')):\n",
        "                print(filename, \" Saved as:  2\")\n",
        "                cv.imwrite('images/2/' + filename, copy)\n",
        "                cv.imwrite('images/sorted/' + filename, img)\n",
        "                os.remove(path + filename)\n",
        "                flag = 0\n",
        "            elif(key == ord('3')):\n",
        "                print(filename, \" Saved as:  3\")\n",
        "                cv.imwrite('images/3/' + filename, copy)\n",
        "                cv.imwrite('images/sorted/' + filename, img)\n",
        "                os.remove(path + filename)\n",
        "                flag = 0\n",
        "            elif(key == ord('4')):\n",
        "                print(filename, \" Saved as:  4\")\n",
        "                cv.imwrite('images/40/' + filename, copy)\n",
        "                cv.imwrite('images/sorted/' + filename, img)\n",
        "                os.remove(path + filename)\n",
        "                flag = 0\n",
        "            elif(key == ord('l')):\n",
        "                print(filename, \" saved for later\")\n",
        "                # cv.imwrite('C:/Users/chomi/Desktop/later/' + filename, copy)\n",
        "                flag = 0\n",
        "            elif(key == ord('p')):\n",
        "                flag = 2\n",
        "            else:\n",
        "                print(\"Invalid key press\")\n",
        "                flag = 1\n",
        "    if(flag == 2):\n",
        "        break\n",
        "    \n",
        "print(\"Finished.\", end=(''))\n",
        "if(flag == 2):\n",
        "    print(\"..User interrupt\")\n",
        "cv.destroyAllWindows()\n",
        "\n"
      ],
      "execution_count": 2,
      "outputs": [
        {
          "output_type": "error",
          "ename": "FileNotFoundError",
          "evalue": "ignored",
          "traceback": [
            "\u001b[0;31m---------------------------------------------------------------------------\u001b[0m",
            "\u001b[0;31mFileNotFoundError\u001b[0m                         Traceback (most recent call last)",
            "\u001b[0;32m<ipython-input-2-44899578d88a>\u001b[0m in \u001b[0;36m<module>\u001b[0;34m()\u001b[0m\n\u001b[1;32m     26\u001b[0m \u001b[0;34m\u001b[0m\u001b[0m\n\u001b[1;32m     27\u001b[0m \u001b[0;34m\u001b[0m\u001b[0m\n\u001b[0;32m---> 28\u001b[0;31m \u001b[0;32mfor\u001b[0m \u001b[0mfilename\u001b[0m \u001b[0;32min\u001b[0m \u001b[0mos\u001b[0m\u001b[0;34m.\u001b[0m\u001b[0mlistdir\u001b[0m\u001b[0;34m(\u001b[0m\u001b[0mpath\u001b[0m\u001b[0;34m)\u001b[0m\u001b[0;34m:\u001b[0m\u001b[0;34m\u001b[0m\u001b[0;34m\u001b[0m\u001b[0m\n\u001b[0m\u001b[1;32m     29\u001b[0m     \u001b[0mflag\u001b[0m \u001b[0;34m=\u001b[0m \u001b[0;36m1\u001b[0m\u001b[0;34m\u001b[0m\u001b[0;34m\u001b[0m\u001b[0m\n\u001b[1;32m     30\u001b[0m     \u001b[0;32mif\u001b[0m\u001b[0;34m(\u001b[0m\u001b[0mfilename\u001b[0m\u001b[0;34m.\u001b[0m\u001b[0mendswith\u001b[0m\u001b[0;34m(\u001b[0m\u001b[0;34m\".png\"\u001b[0m\u001b[0;34m)\u001b[0m\u001b[0;34m)\u001b[0m\u001b[0;34m:\u001b[0m\u001b[0;34m\u001b[0m\u001b[0;34m\u001b[0m\u001b[0m\n",
            "\u001b[0;31mFileNotFoundError\u001b[0m: [Errno 2] No such file or directory: 'images/'"
          ]
        }
      ]
    }
  ]
}